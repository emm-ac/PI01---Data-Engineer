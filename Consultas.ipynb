{
 "cells": [
  {
   "cell_type": "code",
   "execution_count": 134,
   "metadata": {},
   "outputs": [],
   "source": [
    "# Importar librerías para manipular los datos.\n",
    "import pandas as pd\n",
    "import numpy as np\n",
    "import re"
   ]
  },
  {
   "cell_type": "code",
   "execution_count": 135,
   "metadata": {},
   "outputs": [
    {
     "name": "stdout",
     "output_type": "stream",
     "text": [
      "<class 'pandas.core.frame.DataFrame'>\n",
      "RangeIndex: 22998 entries, 0 to 22997\n",
      "Data columns (total 7 columns):\n",
      " #   Column        Non-Null Count  Dtype \n",
      "---  ------        --------------  ----- \n",
      " 0   Titulo        22998 non-null  object\n",
      " 1   Duracion      22998 non-null  int64 \n",
      " 2   Anio_estreno  22998 non-null  int64 \n",
      " 3   Tipo          22998 non-null  object\n",
      " 4   Genero        22998 non-null  object\n",
      " 5   Actores       22998 non-null  object\n",
      " 6   Plataforma    22998 non-null  object\n",
      "dtypes: int64(2), object(5)\n",
      "memory usage: 1.2+ MB\n"
     ]
    }
   ],
   "source": [
    "#Importar archivo con la tabla definitiva y verificar estructura.\n",
    "datos = pd.read_csv('./app/base_plataformas.csv', engine='python', decimal='.')\n",
    "datos.info()"
   ]
  },
  {
   "attachments": {},
   "cell_type": "markdown",
   "metadata": {},
   "source": [
    "DESARROLLO DE CONSULTAS"
   ]
  },
  {
   "cell_type": "markdown",
   "metadata": {},
   "source": [
    "Máxima duración según tipo de film (película/serie), por plataforma y por año: El request debe ser: get_max_duration(año, plataforma, [min o season])"
   ]
  },
  {
   "cell_type": "code",
   "execution_count": 58,
   "metadata": {},
   "outputs": [],
   "source": [
    "def get_max_Duracion(anio,plataforma,tipo):\n",
    "    lista_plataforma = ['Amazon','Disney','Hulu','Netflix']\n",
    "    lista_tipo = ['min','season']\n",
    "    if (plataforma in lista_plataforma) and (tipo in lista_tipo) and (anio in range(datos.Anio_estreno.min(),datos.Anio_estreno.max()+1)):\n",
    "        if tipo == 'min':\n",
    "            tipo_MoS = 'Movie'\n",
    "            gmd = datos[datos['Plataforma'] == plataforma][datos['Anio_estreno'] == anio][datos['Tipo'] == tipo_MoS].groupby(['Plataforma', 'Tipo', 'Anio_estreno'])['Duracion'].idxmax()\n",
    "            duracion = datos['Duracion'].get(gmd[0])\n",
    "            titulo = datos['Titulo'].get(gmd[0])\n",
    "            return (f'El Título es {titulo} y su duración es de {duracion} {tipo}')\n",
    "        elif tipo == 'season':\n",
    "            tipo_MoS = 'TV Show'\n",
    "            gmd = datos[datos['Plataforma'] == plataforma][datos['Anio_estreno'] == anio][datos['Tipo'] == tipo_MoS].groupby(['Plataforma', 'Tipo', 'Anio_estreno'])['Duracion'].idxmax()\n",
    "            duracion = datos['Duracion'].get(gmd[0]) \n",
    "            titulo = datos['Titulo'].get(gmd[0])\n",
    "            return (f'El Título es {titulo} y su duración es de {duracion} {tipo}')\n",
    "    else:\n",
    "        return (f'Los parámetros ingresados son erróneos.')\n",
    "    \n",
    "# La función analiza inicialmente si los parámetros son correctos, sino devuelve un mensaje de error. Luego extrae el ID con el valor máximo del dato correspondiente a cada parámetro\n",
    "# en función a la columna Duración. Por último devuelve el dato ubicado en cada índice de los parámetros. "
   ]
  },
  {
   "cell_type": "code",
   "execution_count": 60,
   "metadata": {},
   "outputs": [
    {
     "name": "stderr",
     "output_type": "stream",
     "text": [
      "C:\\Users\\emman\\AppData\\Local\\Temp\\ipykernel_10776\\3124994940.py:7: UserWarning: Boolean Series key will be reindexed to match DataFrame index.\n",
      "  gmd = datos[datos['Plataforma'] == plataforma][datos['Anio_estreno'] == anio][datos['Tipo'] == tipo_MoS].groupby(['Plataforma', 'Tipo', 'Anio_estreno'])['Duracion'].idxmax()\n"
     ]
    },
    {
     "data": {
      "text/plain": [
       "'El Título es The House That Jack Built y su duración es de 151 min'"
      ]
     },
     "execution_count": 60,
     "metadata": {},
     "output_type": "execute_result"
    }
   ],
   "source": [
    "get_max_Duracion(2018,'Hulu','min')"
   ]
  },
  {
   "cell_type": "markdown",
   "metadata": {},
   "source": [
    "Cantidad de películas y series (separado) por plataforma El request debe ser: get_count_plataform(plataforma)"
   ]
  },
  {
   "cell_type": "code",
   "execution_count": 136,
   "metadata": {},
   "outputs": [],
   "source": [
    "def get_count_plataform(plataforma):\n",
    "    lista_plataforma = ['Amazon','Disney','Hulu','Netflix']\n",
    "    if (plataforma in lista_plataforma):\n",
    "        gcp = datos[datos['Plataforma'] == plataforma]\n",
    "        gcp = gcp.groupby(['Plataforma'])['Tipo'].value_counts()\n",
    "        return gcp\n",
    "        \n",
    "    else:\n",
    "        return (f'Los parámetros ingresados son erróneos.')\n",
    "    \n",
    "# La función analiza inicialmente si el parámetro es correctos, sino devuelve un mensaje de error. Primeramente arma una tabla reducida, con los datos correspondientes\n",
    "# a la plataforma ingresada en el parámetro. Por último agrupa según los valores dentro de la columna Tipo y cuenta las repeticiones de cada uno, devolviendo esa información."
   ]
  },
  {
   "cell_type": "code",
   "execution_count": 137,
   "metadata": {},
   "outputs": [
    {
     "data": {
      "text/plain": [
       "Plataforma  Tipo   \n",
       "Disney      Movie      1052\n",
       "            TV Show     398\n",
       "Name: Tipo, dtype: int64"
      ]
     },
     "execution_count": 137,
     "metadata": {},
     "output_type": "execute_result"
    }
   ],
   "source": [
    "get_count_plataform('Disney')"
   ]
  },
  {
   "cell_type": "code",
   "execution_count": 126,
   "metadata": {},
   "outputs": [
    {
     "name": "stdout",
     "output_type": "stream",
     "text": [
      "Plataforma  Tipo   \n",
      "Hulu        TV Show    1589\n",
      "            Movie      1484\n",
      "Name: Tipo, dtype: int64\n"
     ]
    }
   ],
   "source": [
    "gcp = datos[datos['Plataforma'] == 'Hulu']\n",
    "gcp = gcp.groupby(['Plataforma'])['Tipo'].value_counts()\n",
    "#gcp = pd.DataFrame(gcp)\n",
    "print (gcp)"
   ]
  },
  {
   "cell_type": "markdown",
   "metadata": {},
   "source": [
    "Cantidad de veces que se repite un género y plataforma con mayor frecuencia del mismo. El request debe ser: get_listedin('genero')\n",
    "Como ejemplo de género pueden usar 'comedy', el cuál deberia devolverles un cunt de 2099 para la plataforma de amazon."
   ]
  },
  {
   "cell_type": "code",
   "execution_count": 89,
   "metadata": {},
   "outputs": [],
   "source": [
    "def get_listedin(genero):\n",
    "    gl = datos[datos.Genero.str.contains(genero, case=False)].groupby(by=['Plataforma']).Titulo.count()\n",
    "    gl = pd.DataFrame(gl)\n",
    "    gl.reset_index(inplace=True)\n",
    "    gl.sort_values(by='Titulo', inplace=True, ascending=False)\n",
    "    gl.reset_index(inplace=True, drop=True)\n",
    "    return ('El género ') + str(genero) + (' se repite ') + str(gl.loc[1,'Titulo']) + (' veces en la plataforma ') + str(gl.loc[1,'Plataforma'])\n",
    "\n",
    "# La función recorre la columna Genero y busca el parámetro ingresado. Agrupa los resultados por plataforma y realiza un conteo de las repeticiones. \n",
    "# El resultado del paso anterior se reordena de forma decreciente y se retorna el primer valor: la plataforma con mayor número de repeticiones. gl.iloc[0]"
   ]
  },
  {
   "cell_type": "code",
   "execution_count": 90,
   "metadata": {},
   "outputs": [
    {
     "data": {
      "text/plain": [
       "'El género comedy se repite 667 veces en la plataforma Hulu'"
      ]
     },
     "execution_count": 90,
     "metadata": {},
     "output_type": "execute_result"
    }
   ],
   "source": [
    "get_listedin ('comedy')"
   ]
  },
  {
   "cell_type": "markdown",
   "metadata": {},
   "source": [
    "Actor que más se repite según plataforma y año. El request debe ser: get_actor(plataforma, año)"
   ]
  },
  {
   "cell_type": "code",
   "execution_count": 75,
   "metadata": {},
   "outputs": [],
   "source": [
    "def get_actor(plataforma,anio):\n",
    "    lista_plataforma = ['Amazon','Disney','Hulu','Netflix']\n",
    "    lista_tipo = ['min','season']\n",
    "    if (plataforma in lista_plataforma) and (anio in range(datos.Anio_estreno.min(),datos.Anio_estreno.max()+1)):\n",
    "        actores_lista = []\n",
    "        ga = datos.query(f\"Plataforma == '{plataforma}' and Anio_estreno ==  {anio}\").Actores.tolist()\n",
    "        for i in range(len(ga)):\n",
    "            actores_temp = ga[i].split(\",\")\n",
    "            for j in range(len(actores_temp)):\n",
    "                if actores_temp[j] != 'Sin dato':\n",
    "                    actores_lista.append(actores_temp[j])\n",
    "        actores_dicc = dict(zip(actores_lista,map(lambda x: actores_lista.count(x),actores_lista)))\n",
    "        actor_max = max(actores_dicc, key=actores_dicc.get)\n",
    "        actor_max_aparece = actores_dicc.get(actor_max)\n",
    "        return f'Es {actor_max} con {actor_max_aparece} apariciones.'\n",
    "    else:\n",
    "        return (f'Los parámetros ingresados son erróneos.')\n",
    "    \n",
    "# La función analiza inicialmente si los parámetros son correctos, sino devuelve un mensaje de error.. Como primer paso arma una tabla reducida en función de la plataforma\n",
    "# y año ingresados. Luego arma una lista con todos los nombres de actores que encuentra al recorrer la columna indicada. Finalmente hace un conteo de las repeticiones de cada\n",
    "# nombre y devuelve aquel que más se repite. "
   ]
  },
  {
   "cell_type": "code",
   "execution_count": 76,
   "metadata": {},
   "outputs": [
    {
     "data": {
      "text/plain": [
       "'Es  Andrea Libman con 8 apariciones.'"
      ]
     },
     "execution_count": 76,
     "metadata": {},
     "output_type": "execute_result"
    }
   ],
   "source": [
    "get_actor (\"Netflix\",2018)"
   ]
  }
 ],
 "metadata": {
  "kernelspec": {
   "display_name": "Python 3.10.8 64-bit",
   "language": "python",
   "name": "python3"
  },
  "language_info": {
   "codemirror_mode": {
    "name": "ipython",
    "version": 3
   },
   "file_extension": ".py",
   "mimetype": "text/x-python",
   "name": "python",
   "nbconvert_exporter": "python",
   "pygments_lexer": "ipython3",
   "version": "3.10.8"
  },
  "orig_nbformat": 4,
  "vscode": {
   "interpreter": {
    "hash": "80acabf83f03f6708b4a7d1d74fe7eb69e19c51052afaa6d4e26b05791fa57cb"
   }
  }
 },
 "nbformat": 4,
 "nbformat_minor": 2
}

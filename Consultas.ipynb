{
 "cells": [
  {
   "cell_type": "code",
   "execution_count": 2,
   "metadata": {},
   "outputs": [],
   "source": [
    "# Librería para manipular datasets\n",
    "import pandas as pd\n",
    "import numpy as np\n",
    "import re"
   ]
  },
  {
   "cell_type": "code",
   "execution_count": 3,
   "metadata": {},
   "outputs": [
    {
     "name": "stdout",
     "output_type": "stream",
     "text": [
      "<class 'pandas.core.frame.DataFrame'>\n",
      "RangeIndex: 22998 entries, 0 to 22997\n",
      "Data columns (total 7 columns):\n",
      " #   Column        Non-Null Count  Dtype \n",
      "---  ------        --------------  ----- \n",
      " 0   Titulo        22998 non-null  object\n",
      " 1   Duracion      22998 non-null  int64 \n",
      " 2   Anio_estreno  22998 non-null  int64 \n",
      " 3   Tipo          22998 non-null  object\n",
      " 4   Genero        22998 non-null  object\n",
      " 5   Actores       22998 non-null  object\n",
      " 6   Plataforma    22998 non-null  object\n",
      "dtypes: int64(2), object(5)\n",
      "memory usage: 1.2+ MB\n"
     ]
    }
   ],
   "source": [
    "datos = pd.read_csv('./app/base_plataformas.csv', engine='python', decimal='.')\n",
    "datos.info()"
   ]
  },
  {
   "cell_type": "markdown",
   "metadata": {},
   "source": [
    "Máxima duración según tipo de film (película/serie), por plataforma y por año: El request debe ser: get_max_duration(año, plataforma, [min o season])"
   ]
  },
  {
   "cell_type": "code",
   "execution_count": 9,
   "metadata": {},
   "outputs": [],
   "source": [
    "def get_max_Duracion(Plataforma, año, tipo):\n",
    "    if tipo == 'min':\n",
    "        t = 'Movie'\n",
    "        g = datos[datos['Plataforma'] == Plataforma][datos['Anio_estreno'] == año][datos['Tipo'] == t].groupby(['Plataforma', 'Tipo', 'Anio_estreno'])['Duracion'].idxmax()\n",
    "        duracion = datos['Duracion'].get(g[0])\n",
    "        titulo = datos['Titulo'].get(g[0])\n",
    "        return (f'El Título es {titulo} y su duración es de {duracion} {tipo}')\n",
    "    elif tipo == 'season':\n",
    "        t = 'TV Show'\n",
    "        g = datos[datos['Plataforma'] == Plataforma][datos['Anio_estreno'] == año][datos['Tipo'] == t].groupby(['Plataforma', 'Tipo', 'Anio_estreno'])['Duracion'].idxmax()\n",
    "        duracion = datos['Duracion'].get(g[0]) \n",
    "        titulo = datos['Titulo'].get(g[0])\n",
    "        return (f'El Título es {titulo} y su duración es de {duracion} {tipo}')"
   ]
  },
  {
   "cell_type": "code",
   "execution_count": 10,
   "metadata": {},
   "outputs": [
    {
     "name": "stderr",
     "output_type": "stream",
     "text": [
      "C:\\Users\\emman\\AppData\\Local\\Temp\\ipykernel_8380\\952170855.py:10: UserWarning: Boolean Series key will be reindexed to match DataFrame index.\n",
      "  g = datos[datos['Plataforma'] == Plataforma][datos['Anio_estreno'] == año][datos['Tipo'] == t].groupby(['Plataforma', 'Tipo', 'Anio_estreno'])['Duracion'].idxmax()\n"
     ]
    },
    {
     "data": {
      "text/plain": [
       "'El Título es NCIS y su duración es de 15 season'"
      ]
     },
     "execution_count": 10,
     "metadata": {},
     "output_type": "execute_result"
    }
   ],
   "source": [
    "get_max_Duracion('Netflix',2017,'season')"
   ]
  },
  {
   "cell_type": "markdown",
   "metadata": {},
   "source": [
    "Cantidad de películas y series (separado) por plataforma El request debe ser: get_count_plataform(plataforma)"
   ]
  },
  {
   "cell_type": "code",
   "execution_count": 312,
   "metadata": {},
   "outputs": [],
   "source": [
    "def get_count_plataform(plataforma):\n",
    "    gcp = datos[datos['Plataforma'] == plataforma]\n",
    "    gcp = gcp.groupby(['Plataforma'])['Tipo'].value_counts()\n",
    "    gcp = pd.DataFrame(gcp)\n",
    "    return gcp"
   ]
  },
  {
   "cell_type": "code",
   "execution_count": 313,
   "metadata": {},
   "outputs": [
    {
     "data": {
      "text/html": [
       "<div>\n",
       "<style scoped>\n",
       "    .dataframe tbody tr th:only-of-type {\n",
       "        vertical-align: middle;\n",
       "    }\n",
       "\n",
       "    .dataframe tbody tr th {\n",
       "        vertical-align: top;\n",
       "    }\n",
       "\n",
       "    .dataframe thead th {\n",
       "        text-align: right;\n",
       "    }\n",
       "</style>\n",
       "<table border=\"1\" class=\"dataframe\">\n",
       "  <thead>\n",
       "    <tr style=\"text-align: right;\">\n",
       "      <th></th>\n",
       "      <th></th>\n",
       "      <th>Tipo</th>\n",
       "    </tr>\n",
       "    <tr>\n",
       "      <th>Plataforma</th>\n",
       "      <th>Tipo</th>\n",
       "      <th></th>\n",
       "    </tr>\n",
       "  </thead>\n",
       "  <tbody>\n",
       "    <tr>\n",
       "      <th rowspan=\"2\" valign=\"top\">Netflix</th>\n",
       "      <th>Movie</th>\n",
       "      <td>6131</td>\n",
       "    </tr>\n",
       "    <tr>\n",
       "      <th>TV Show</th>\n",
       "      <td>2676</td>\n",
       "    </tr>\n",
       "  </tbody>\n",
       "</table>\n",
       "</div>"
      ],
      "text/plain": [
       "                    Tipo\n",
       "Plataforma Tipo         \n",
       "Netflix    Movie    6131\n",
       "           TV Show  2676"
      ]
     },
     "execution_count": 313,
     "metadata": {},
     "output_type": "execute_result"
    }
   ],
   "source": [
    "get_count_plataform('Netflix')"
   ]
  },
  {
   "cell_type": "markdown",
   "metadata": {},
   "source": [
    "Cantidad de veces que se repite un género y plataforma con mayor frecuencia del mismo. El request debe ser: get_listedin('genero')\n",
    "Como ejemplo de género pueden usar 'comedy', el cuál deberia devolverles un cunt de 2099 para la plataforma de amazon."
   ]
  },
  {
   "cell_type": "code",
   "execution_count": 11,
   "metadata": {},
   "outputs": [],
   "source": [
    "def get_listedin (genero):\n",
    "    gl = datos[datos.Genero.str.contains(genero, case=False)].groupby(by=['Plataforma']).Titulo.count()\n",
    "    gl = pd.DataFrame(gl)\n",
    "    gl.reset_index(inplace=True)\n",
    "    gl.sort_values(by='Titulo', inplace=True, ascending=False)\n",
    "    gl.reset_index(inplace=True, drop=True)\n",
    "    return gl.iloc[0]"
   ]
  },
  {
   "cell_type": "code",
   "execution_count": 12,
   "metadata": {},
   "outputs": [
    {
     "data": {
      "text/plain": [
       "Plataforma    Amazon\n",
       "Titulo          2099\n",
       "Name: 0, dtype: object"
      ]
     },
     "execution_count": 12,
     "metadata": {},
     "output_type": "execute_result"
    }
   ],
   "source": [
    "get_listedin ('comedy')"
   ]
  },
  {
   "cell_type": "markdown",
   "metadata": {},
   "source": [
    "Actor que más se repite según plataforma y año. El request debe ser: get_actor(plataforma, año)"
   ]
  },
  {
   "cell_type": "code",
   "execution_count": 7,
   "metadata": {},
   "outputs": [],
   "source": [
    "def get_actor (plataforma,anio):\n",
    "    actores_lista = []\n",
    "    ga = datos.query(f\"Plataforma == '{plataforma}' and Anio_estreno ==  {anio}\").Actores.tolist()\n",
    "    for i in range(len(ga)):\n",
    "        actores_temp = ga[i].split(\",\")\n",
    "        for j in range(len(actores_temp)):\n",
    "            if actores_temp[j] != 'Sin dato':\n",
    "                actores_lista.append(actores_temp[j])\n",
    "    actores_dicc = dict(zip(actores_lista,map(lambda x: actores_lista.count(x),actores_lista)))\n",
    "    actor_max = max(actores_dicc, key=actores_dicc.get)\n",
    "    actor_max_aparece = actores_dicc.get(actor_max)\n",
    "    return f'Es {actor_max} con {actor_max_aparece} apariciones.'"
   ]
  },
  {
   "cell_type": "code",
   "execution_count": 8,
   "metadata": {},
   "outputs": [
    {
     "data": {
      "text/plain": [
       "'Es  Andrea Libman con 8 apariciones.'"
      ]
     },
     "execution_count": 8,
     "metadata": {},
     "output_type": "execute_result"
    }
   ],
   "source": [
    "get_actor (\"Netflix\",2018)"
   ]
  },
  {
   "cell_type": "code",
   "execution_count": null,
   "metadata": {},
   "outputs": [],
   "source": [
    "@app.get(\"/get_max_duration/{anio}/{plataforma}/{tipo}\")\n",
    "def get_max_duration(anio,plataforma,tipo):\n",
    "    anio = int(anio)\n",
    "    tuple_plataformas = (\"amazon\",\"disney\",\"hulu\",\"netflix\")\n",
    "    tuple_tipo = (\"min\",\"season\")\n",
    "    if (anio in range(df_final.release_year.min(),df_final.release_year.max()+1)) and (plataforma in (tuple_plataformas)) and (tipo in tuple_tipo):\n",
    "        id_final = df_final.query(f\"release_year == {anio} and platform == '{plataforma}' and duration_type == '{tipo}'\").duration_int.idxmax()\n",
    "        return f'{df_final[id_final:id_final+1].to_dict().get(\"title\").get(id_final)} Tiene la mayor duración: {df_final[id_final:id_final+1].to_dict().get(\"duration\").get(id_final)}'\n",
    "    else:\n",
    "        return f\"Faltan datos para su consulta o alguno de los parámetros es incorrecto, por favor verifique que los datos ingresados.\"\n",
    "\n",
    "@app.get(\"/get_count_platform/{plataforma}\")\n",
    "def get_count_platform(plataforma):\n",
    "    tuple_plataformas = (\"amazon\",\"disney\",\"hulu\",\"netflix\")\n",
    "    if plataforma in (tuple_plataformas):\n",
    "        dict = df_final.query(f\"platform == '{plataforma}'\").groupby(by=['type']).title.count().to_dict()\n",
    "        return f'El conteo de la plataforma {plataforma} es: {dict.get(\"Movie\")} películas y {dict.get(\"TV Show\")} series'\n",
    "\n",
    "\n",
    "@app.get(\"/get_listedin/{genero}\")\n",
    "def get_listedin(genero):\n",
    "    conteo = df_final[df_final.listed_in.str.contains(genero, case=False)].groupby(by=['platform']).title.count().to_dict()\n",
    "    return f'El género {genero} aparece {conteo.get(\"amazon\")} veces en amazon, {conteo.get(\"disney\")} veces en disney, {conteo.get(\"hulu\")} veces en hulu y {conteo.get(\"netflix\")} veces en netflix'\n",
    "\n",
    "\n",
    "@app.get(\"/get_actor/{plataforma}/{anio}\")\n",
    "async def actores(plataforma,anio):\n",
    "    anio = int(anio)\n",
    "    tuple_plataformas = (\"amazon\",\"disney\",\"hulu\",\"netflix\")\n",
    "    if (anio in range(df_final.release_year.min(),df_final.release_year.max()+1)) and (plataforma in (tuple_plataformas)):\n",
    "        actor_list = []\n",
    "        cast_list = df_final.query(f\"platform == '{plataforma}' and release_year == {anio}\").cast.tolist()\n",
    "        for i in range(len(cast_list)):\n",
    "            actor_list_temp = cast_list[i].split(\",\")\n",
    "            for j in range(len(actor_list_temp)):\n",
    "                if actor_list_temp[j] != 'Sin Datos':\n",
    "                    actor_list.append(actor_list_temp[j])\n",
    "        dict_actor = dict(zip(actor_list,map(lambda x: actor_list.count(x),actor_list)))\n",
    "        max_actor = max(dict_actor, key=dict_actor.get)\n",
    "        max_actor_appearances = dict_actor.get(max_actor)\n",
    "        return f'El actor/actriz con mayor número de apariciones en la plataforma {plataforma} el año {anio} es {max_actor} con {max_actor_appearances} apariciones.'\n",
    "    else:\n",
    "        return f\"Faltan datos para su consulta o alguno de los parámetros es incorrecto, por favor verifique que los datos ingresados.\""
   ]
  }
 ],
 "metadata": {
  "kernelspec": {
   "display_name": "Python 3.10.8 64-bit",
   "language": "python",
   "name": "python3"
  },
  "language_info": {
   "codemirror_mode": {
    "name": "ipython",
    "version": 3
   },
   "file_extension": ".py",
   "mimetype": "text/x-python",
   "name": "python",
   "nbconvert_exporter": "python",
   "pygments_lexer": "ipython3",
   "version": "3.10.8"
  },
  "orig_nbformat": 4,
  "vscode": {
   "interpreter": {
    "hash": "80acabf83f03f6708b4a7d1d74fe7eb69e19c51052afaa6d4e26b05791fa57cb"
   }
  }
 },
 "nbformat": 4,
 "nbformat_minor": 2
}

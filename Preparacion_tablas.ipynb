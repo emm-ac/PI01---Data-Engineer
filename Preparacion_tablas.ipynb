{
 "cells": [
  {
   "cell_type": "markdown",
   "metadata": {},
   "source": [
    "Importación de librerías necesarias."
   ]
  },
  {
   "cell_type": "code",
   "execution_count": 1,
   "metadata": {},
   "outputs": [],
   "source": [
    "import pandas as pd\n",
    "import numpy as np\n",
    "import re\n",
    "from pathlib import Path \n",
    "import chardet"
   ]
  },
  {
   "cell_type": "markdown",
   "metadata": {},
   "source": [
    "Definir una función para importar cada archivo."
   ]
  },
  {
   "cell_type": "code",
   "execution_count": 2,
   "metadata": {},
   "outputs": [],
   "source": [
    "def importar(path):\n",
    "    with open(path, 'rb') as f:\n",
    "        result = chardet.detect(f.read())\n",
    "        # Para importar archivos csv\n",
    "        if Path(path).suffix == \".csv\": \n",
    "            data = pd.read_csv(path, encoding=result['encoding'], sep=None, engine='python', decimal='.')\n",
    "        # Para importar archivos parquet\n",
    "        elif Path(path).suffix == \".parquet\": \n",
    "            data = pd.read_parquet(path, engine='pyarrow')\n",
    "        # Para importar archivos json\n",
    "        elif Path(path).suffix == \".json\": \n",
    "            data = pd.read_json(path, precise_float=True)\n",
    "        # Para importar archivos txt\n",
    "        elif Path(path).suffix == \".txt\": \n",
    "            data = pd.read_table(path, sep='|', engine='python')\n",
    "            \n",
    "    return data "
   ]
  },
  {
   "cell_type": "markdown",
   "metadata": {},
   "source": [
    "Definir funciones adicionales"
   ]
  },
  {
   "cell_type": "code",
   "execution_count": 3,
   "metadata": {},
   "outputs": [],
   "source": [
    "def extraer_num(columna):\n",
    "    d = re.match(r\"\\d+\", columna)\n",
    "    if d:\n",
    "        return int(d.group())\n",
    "    else:\n",
    "        return 0"
   ]
  },
  {
   "attachments": {},
   "cell_type": "markdown",
   "metadata": {},
   "source": [
    "Iterar la función para importar cada archivo de datos."
   ]
  },
  {
   "cell_type": "code",
   "execution_count": 4,
   "metadata": {},
   "outputs": [],
   "source": [
    "db_amazon = importar ('./Datasets/amazon_prime_titles.csv')\n",
    "db_disney = importar ('./Datasets/disney_plus_titles.csv')\n",
    "db_hulu = importar ('./Datasets/hulu_titles.csv')\n",
    "db_netflix = importar ('./Datasets/netflix_titles.json')"
   ]
  },
  {
   "cell_type": "markdown",
   "metadata": {},
   "source": [
    "Preparación de tablas individuales."
   ]
  },
  {
   "cell_type": "markdown",
   "metadata": {},
   "source": [
    "1) LIMPIEZA DE TABLA AMAZON"
   ]
  },
  {
   "cell_type": "code",
   "execution_count": 5,
   "metadata": {},
   "outputs": [
    {
     "name": "stdout",
     "output_type": "stream",
     "text": [
      "<class 'pandas.core.frame.DataFrame'>\n",
      "RangeIndex: 9668 entries, 0 to 9667\n",
      "Data columns (total 12 columns):\n",
      " #   Column        Non-Null Count  Dtype \n",
      "---  ------        --------------  ----- \n",
      " 0   show_id       9668 non-null   object\n",
      " 1   type          9668 non-null   object\n",
      " 2   title         9668 non-null   object\n",
      " 3   director      7586 non-null   object\n",
      " 4   cast          8435 non-null   object\n",
      " 5   country       672 non-null    object\n",
      " 6   date_added    155 non-null    object\n",
      " 7   release_year  9668 non-null   int64 \n",
      " 8   rating        9331 non-null   object\n",
      " 9   duration      9668 non-null   object\n",
      " 10  listed_in     9668 non-null   object\n",
      " 11  description   9668 non-null   object\n",
      "dtypes: int64(1), object(11)\n",
      "memory usage: 906.5+ KB\n"
     ]
    }
   ],
   "source": [
    "#Verificar estructura de la tabla.\n",
    "db_amazon.info()"
   ]
  },
  {
   "cell_type": "code",
   "execution_count": 6,
   "metadata": {},
   "outputs": [],
   "source": [
    "#Eliminar columnas innecesarias y agregar una con la plataforma.\n",
    "db_amazon = db_amazon[['title','duration','release_year','type','listed_in','cast']]\n",
    "db_amazon['Plataforma'] = np.nan\n",
    "db_amazon['Plataforma'].fillna('Amazon', inplace=True)\n",
    "db_amazon.reset_index(drop=True, inplace=True)"
   ]
  },
  {
   "cell_type": "code",
   "execution_count": 7,
   "metadata": {},
   "outputs": [
    {
     "name": "stdout",
     "output_type": "stream",
     "text": [
      "0\n"
     ]
    },
    {
     "data": {
      "text/html": [
       "<div>\n",
       "<style scoped>\n",
       "    .dataframe tbody tr th:only-of-type {\n",
       "        vertical-align: middle;\n",
       "    }\n",
       "\n",
       "    .dataframe tbody tr th {\n",
       "        vertical-align: top;\n",
       "    }\n",
       "\n",
       "    .dataframe thead th {\n",
       "        text-align: right;\n",
       "    }\n",
       "</style>\n",
       "<table border=\"1\" class=\"dataframe\">\n",
       "  <thead>\n",
       "    <tr style=\"text-align: right;\">\n",
       "      <th></th>\n",
       "      <th>title</th>\n",
       "      <th>duration</th>\n",
       "      <th>release_year</th>\n",
       "      <th>type</th>\n",
       "      <th>listed_in</th>\n",
       "      <th>cast</th>\n",
       "      <th>Plataforma</th>\n",
       "    </tr>\n",
       "  </thead>\n",
       "  <tbody>\n",
       "    <tr>\n",
       "      <th>0</th>\n",
       "      <td>The Grand Seduction</td>\n",
       "      <td>113 min</td>\n",
       "      <td>2014</td>\n",
       "      <td>Movie</td>\n",
       "      <td>Comedy, Drama</td>\n",
       "      <td>Brendan Gleeson, Taylor Kitsch, Gordon Pinsent</td>\n",
       "      <td>Amazon</td>\n",
       "    </tr>\n",
       "    <tr>\n",
       "      <th>1</th>\n",
       "      <td>Take Care Good Night</td>\n",
       "      <td>110 min</td>\n",
       "      <td>2018</td>\n",
       "      <td>Movie</td>\n",
       "      <td>Drama, International</td>\n",
       "      <td>Mahesh Manjrekar, Abhay Mahajan, Sachin Khedekar</td>\n",
       "      <td>Amazon</td>\n",
       "    </tr>\n",
       "    <tr>\n",
       "      <th>2</th>\n",
       "      <td>Secrets of Deception</td>\n",
       "      <td>74 min</td>\n",
       "      <td>2017</td>\n",
       "      <td>Movie</td>\n",
       "      <td>Action, Drama, Suspense</td>\n",
       "      <td>Tom Sizemore, Lorenzo Lamas, Robert LaSardo, R...</td>\n",
       "      <td>Amazon</td>\n",
       "    </tr>\n",
       "    <tr>\n",
       "      <th>3</th>\n",
       "      <td>Pink: Staying True</td>\n",
       "      <td>69 min</td>\n",
       "      <td>2014</td>\n",
       "      <td>Movie</td>\n",
       "      <td>Documentary</td>\n",
       "      <td>Interviews with: Pink, Adele, Beyoncé, Britney...</td>\n",
       "      <td>Amazon</td>\n",
       "    </tr>\n",
       "    <tr>\n",
       "      <th>4</th>\n",
       "      <td>Monster Maker</td>\n",
       "      <td>45 min</td>\n",
       "      <td>1989</td>\n",
       "      <td>Movie</td>\n",
       "      <td>Drama, Fantasy</td>\n",
       "      <td>Harry Dean Stanton, Kieran O'Brien, George Cos...</td>\n",
       "      <td>Amazon</td>\n",
       "    </tr>\n",
       "  </tbody>\n",
       "</table>\n",
       "</div>"
      ],
      "text/plain": [
       "                  title duration  release_year   type  \\\n",
       "0   The Grand Seduction  113 min          2014  Movie   \n",
       "1  Take Care Good Night  110 min          2018  Movie   \n",
       "2  Secrets of Deception   74 min          2017  Movie   \n",
       "3    Pink: Staying True   69 min          2014  Movie   \n",
       "4         Monster Maker   45 min          1989  Movie   \n",
       "\n",
       "                 listed_in                                               cast  \\\n",
       "0            Comedy, Drama     Brendan Gleeson, Taylor Kitsch, Gordon Pinsent   \n",
       "1     Drama, International   Mahesh Manjrekar, Abhay Mahajan, Sachin Khedekar   \n",
       "2  Action, Drama, Suspense  Tom Sizemore, Lorenzo Lamas, Robert LaSardo, R...   \n",
       "3              Documentary  Interviews with: Pink, Adele, Beyoncé, Britney...   \n",
       "4           Drama, Fantasy  Harry Dean Stanton, Kieran O'Brien, George Cos...   \n",
       "\n",
       "  Plataforma  \n",
       "0     Amazon  \n",
       "1     Amazon  \n",
       "2     Amazon  \n",
       "3     Amazon  \n",
       "4     Amazon  "
      ]
     },
     "execution_count": 7,
     "metadata": {},
     "output_type": "execute_result"
    }
   ],
   "source": [
    "#Verificar resultado esperado.\n",
    "print(db_amazon.duplicated().sum())\n",
    "db_amazon.head()"
   ]
  },
  {
   "cell_type": "markdown",
   "metadata": {},
   "source": [
    "2) LIMPIEZA DE TABLA DISNEY"
   ]
  },
  {
   "cell_type": "code",
   "execution_count": 8,
   "metadata": {},
   "outputs": [
    {
     "name": "stdout",
     "output_type": "stream",
     "text": [
      "<class 'pandas.core.frame.DataFrame'>\n",
      "RangeIndex: 1450 entries, 0 to 1449\n",
      "Data columns (total 12 columns):\n",
      " #   Column        Non-Null Count  Dtype \n",
      "---  ------        --------------  ----- \n",
      " 0   show_id       1450 non-null   object\n",
      " 1   type          1450 non-null   object\n",
      " 2   title         1450 non-null   object\n",
      " 3   director      977 non-null    object\n",
      " 4   cast          1260 non-null   object\n",
      " 5   country       1231 non-null   object\n",
      " 6   date_added    1447 non-null   object\n",
      " 7   release_year  1450 non-null   int64 \n",
      " 8   rating        1447 non-null   object\n",
      " 9   duration      1450 non-null   object\n",
      " 10  listed_in     1450 non-null   object\n",
      " 11  description   1450 non-null   object\n",
      "dtypes: int64(1), object(11)\n",
      "memory usage: 136.1+ KB\n"
     ]
    }
   ],
   "source": [
    "#Verificar estructura de la tabla.\n",
    "db_disney.info()"
   ]
  },
  {
   "cell_type": "code",
   "execution_count": 9,
   "metadata": {},
   "outputs": [],
   "source": [
    "#Eliminar columnas innecesarias y agregar una con la plataforma.\n",
    "db_disney = db_disney[['title','duration','release_year','type','listed_in','cast']]\n",
    "db_disney['Plataforma'] = np.nan\n",
    "db_disney['Plataforma'].fillna('Disney', inplace=True)\n",
    "db_disney.reset_index(drop=True, inplace=True)"
   ]
  },
  {
   "cell_type": "code",
   "execution_count": 10,
   "metadata": {},
   "outputs": [
    {
     "name": "stdout",
     "output_type": "stream",
     "text": [
      "0\n"
     ]
    },
    {
     "data": {
      "text/html": [
       "<div>\n",
       "<style scoped>\n",
       "    .dataframe tbody tr th:only-of-type {\n",
       "        vertical-align: middle;\n",
       "    }\n",
       "\n",
       "    .dataframe tbody tr th {\n",
       "        vertical-align: top;\n",
       "    }\n",
       "\n",
       "    .dataframe thead th {\n",
       "        text-align: right;\n",
       "    }\n",
       "</style>\n",
       "<table border=\"1\" class=\"dataframe\">\n",
       "  <thead>\n",
       "    <tr style=\"text-align: right;\">\n",
       "      <th></th>\n",
       "      <th>title</th>\n",
       "      <th>duration</th>\n",
       "      <th>release_year</th>\n",
       "      <th>type</th>\n",
       "      <th>listed_in</th>\n",
       "      <th>cast</th>\n",
       "      <th>Plataforma</th>\n",
       "    </tr>\n",
       "  </thead>\n",
       "  <tbody>\n",
       "    <tr>\n",
       "      <th>0</th>\n",
       "      <td>Duck the Halls: A Mickey Mouse Christmas Special</td>\n",
       "      <td>23 min</td>\n",
       "      <td>2016</td>\n",
       "      <td>Movie</td>\n",
       "      <td>Animation, Family</td>\n",
       "      <td>Chris Diamantopoulos, Tony Anselmo, Tress MacN...</td>\n",
       "      <td>Disney</td>\n",
       "    </tr>\n",
       "    <tr>\n",
       "      <th>1</th>\n",
       "      <td>Ernest Saves Christmas</td>\n",
       "      <td>91 min</td>\n",
       "      <td>1988</td>\n",
       "      <td>Movie</td>\n",
       "      <td>Comedy</td>\n",
       "      <td>Jim Varney, Noelle Parker, Douglas Seale</td>\n",
       "      <td>Disney</td>\n",
       "    </tr>\n",
       "    <tr>\n",
       "      <th>2</th>\n",
       "      <td>Ice Age: A Mammoth Christmas</td>\n",
       "      <td>23 min</td>\n",
       "      <td>2011</td>\n",
       "      <td>Movie</td>\n",
       "      <td>Animation, Comedy, Family</td>\n",
       "      <td>Raymond Albert Romano, John Leguizamo, Denis L...</td>\n",
       "      <td>Disney</td>\n",
       "    </tr>\n",
       "    <tr>\n",
       "      <th>3</th>\n",
       "      <td>The Queen Family Singalong</td>\n",
       "      <td>41 min</td>\n",
       "      <td>2021</td>\n",
       "      <td>Movie</td>\n",
       "      <td>Musical</td>\n",
       "      <td>Darren Criss, Adam Lambert, Derek Hough, Alexa...</td>\n",
       "      <td>Disney</td>\n",
       "    </tr>\n",
       "    <tr>\n",
       "      <th>4</th>\n",
       "      <td>The Beatles: Get Back</td>\n",
       "      <td>1 Season</td>\n",
       "      <td>2021</td>\n",
       "      <td>TV Show</td>\n",
       "      <td>Docuseries, Historical, Music</td>\n",
       "      <td>John Lennon, Paul McCartney, George Harrison, ...</td>\n",
       "      <td>Disney</td>\n",
       "    </tr>\n",
       "  </tbody>\n",
       "</table>\n",
       "</div>"
      ],
      "text/plain": [
       "                                              title  duration  release_year  \\\n",
       "0  Duck the Halls: A Mickey Mouse Christmas Special    23 min          2016   \n",
       "1                            Ernest Saves Christmas    91 min          1988   \n",
       "2                      Ice Age: A Mammoth Christmas    23 min          2011   \n",
       "3                        The Queen Family Singalong    41 min          2021   \n",
       "4                             The Beatles: Get Back  1 Season          2021   \n",
       "\n",
       "      type                      listed_in  \\\n",
       "0    Movie              Animation, Family   \n",
       "1    Movie                         Comedy   \n",
       "2    Movie      Animation, Comedy, Family   \n",
       "3    Movie                        Musical   \n",
       "4  TV Show  Docuseries, Historical, Music   \n",
       "\n",
       "                                                cast Plataforma  \n",
       "0  Chris Diamantopoulos, Tony Anselmo, Tress MacN...     Disney  \n",
       "1           Jim Varney, Noelle Parker, Douglas Seale     Disney  \n",
       "2  Raymond Albert Romano, John Leguizamo, Denis L...     Disney  \n",
       "3  Darren Criss, Adam Lambert, Derek Hough, Alexa...     Disney  \n",
       "4  John Lennon, Paul McCartney, George Harrison, ...     Disney  "
      ]
     },
     "execution_count": 10,
     "metadata": {},
     "output_type": "execute_result"
    }
   ],
   "source": [
    "#Verificar resultado esperado.\n",
    "print(db_disney.duplicated().sum())\n",
    "db_disney.head()"
   ]
  },
  {
   "cell_type": "markdown",
   "metadata": {},
   "source": [
    "3) LIMPIEZA DE TABLA HULU"
   ]
  },
  {
   "cell_type": "code",
   "execution_count": 11,
   "metadata": {},
   "outputs": [
    {
     "name": "stdout",
     "output_type": "stream",
     "text": [
      "<class 'pandas.core.frame.DataFrame'>\n",
      "RangeIndex: 3073 entries, 0 to 3072\n",
      "Data columns (total 12 columns):\n",
      " #   Column        Non-Null Count  Dtype  \n",
      "---  ------        --------------  -----  \n",
      " 0   show_id       3073 non-null   object \n",
      " 1   type          3073 non-null   object \n",
      " 2   title         3073 non-null   object \n",
      " 3   director      3 non-null      object \n",
      " 4   cast          0 non-null      float64\n",
      " 5   country       1620 non-null   object \n",
      " 6   date_added    3045 non-null   object \n",
      " 7   release_year  3073 non-null   int64  \n",
      " 8   rating        2553 non-null   object \n",
      " 9   duration      2594 non-null   object \n",
      " 10  listed_in     3073 non-null   object \n",
      " 11  description   3069 non-null   object \n",
      "dtypes: float64(1), int64(1), object(10)\n",
      "memory usage: 288.2+ KB\n"
     ]
    }
   ],
   "source": [
    "#Verificar estructura de la tabla.\n",
    "db_hulu.info()"
   ]
  },
  {
   "cell_type": "code",
   "execution_count": 12,
   "metadata": {},
   "outputs": [],
   "source": [
    "#Eliminar columnas innecesarias y agregar una con la plataforma.\n",
    "db_hulu = db_hulu[['title','duration','release_year','type','listed_in','cast']]\n",
    "db_hulu['Plataforma'] = np.nan\n",
    "db_hulu['Plataforma'].fillna('Hulu', inplace=True)\n",
    "db_hulu.reset_index(drop=True, inplace=True)\n"
   ]
  },
  {
   "cell_type": "code",
   "execution_count": 13,
   "metadata": {},
   "outputs": [
    {
     "name": "stdout",
     "output_type": "stream",
     "text": [
      "0\n"
     ]
    },
    {
     "data": {
      "text/html": [
       "<div>\n",
       "<style scoped>\n",
       "    .dataframe tbody tr th:only-of-type {\n",
       "        vertical-align: middle;\n",
       "    }\n",
       "\n",
       "    .dataframe tbody tr th {\n",
       "        vertical-align: top;\n",
       "    }\n",
       "\n",
       "    .dataframe thead th {\n",
       "        text-align: right;\n",
       "    }\n",
       "</style>\n",
       "<table border=\"1\" class=\"dataframe\">\n",
       "  <thead>\n",
       "    <tr style=\"text-align: right;\">\n",
       "      <th></th>\n",
       "      <th>title</th>\n",
       "      <th>duration</th>\n",
       "      <th>release_year</th>\n",
       "      <th>type</th>\n",
       "      <th>listed_in</th>\n",
       "      <th>cast</th>\n",
       "      <th>Plataforma</th>\n",
       "    </tr>\n",
       "  </thead>\n",
       "  <tbody>\n",
       "    <tr>\n",
       "      <th>0</th>\n",
       "      <td>Ricky Velez: Here's Everything</td>\n",
       "      <td>NaN</td>\n",
       "      <td>2021</td>\n",
       "      <td>Movie</td>\n",
       "      <td>Comedy, Stand Up</td>\n",
       "      <td>NaN</td>\n",
       "      <td>Hulu</td>\n",
       "    </tr>\n",
       "    <tr>\n",
       "      <th>1</th>\n",
       "      <td>Silent Night</td>\n",
       "      <td>94 min</td>\n",
       "      <td>2020</td>\n",
       "      <td>Movie</td>\n",
       "      <td>Crime, Drama, Thriller</td>\n",
       "      <td>NaN</td>\n",
       "      <td>Hulu</td>\n",
       "    </tr>\n",
       "    <tr>\n",
       "      <th>2</th>\n",
       "      <td>The Marksman</td>\n",
       "      <td>108 min</td>\n",
       "      <td>2021</td>\n",
       "      <td>Movie</td>\n",
       "      <td>Action, Thriller</td>\n",
       "      <td>NaN</td>\n",
       "      <td>Hulu</td>\n",
       "    </tr>\n",
       "    <tr>\n",
       "      <th>3</th>\n",
       "      <td>Gaia</td>\n",
       "      <td>97 min</td>\n",
       "      <td>2021</td>\n",
       "      <td>Movie</td>\n",
       "      <td>Horror</td>\n",
       "      <td>NaN</td>\n",
       "      <td>Hulu</td>\n",
       "    </tr>\n",
       "    <tr>\n",
       "      <th>4</th>\n",
       "      <td>Settlers</td>\n",
       "      <td>104 min</td>\n",
       "      <td>2021</td>\n",
       "      <td>Movie</td>\n",
       "      <td>Science Fiction, Thriller</td>\n",
       "      <td>NaN</td>\n",
       "      <td>Hulu</td>\n",
       "    </tr>\n",
       "  </tbody>\n",
       "</table>\n",
       "</div>"
      ],
      "text/plain": [
       "                            title duration  release_year   type  \\\n",
       "0  Ricky Velez: Here's Everything      NaN          2021  Movie   \n",
       "1                    Silent Night   94 min          2020  Movie   \n",
       "2                    The Marksman  108 min          2021  Movie   \n",
       "3                            Gaia   97 min          2021  Movie   \n",
       "4                        Settlers  104 min          2021  Movie   \n",
       "\n",
       "                   listed_in  cast Plataforma  \n",
       "0           Comedy, Stand Up   NaN       Hulu  \n",
       "1     Crime, Drama, Thriller   NaN       Hulu  \n",
       "2           Action, Thriller   NaN       Hulu  \n",
       "3                     Horror   NaN       Hulu  \n",
       "4  Science Fiction, Thriller   NaN       Hulu  "
      ]
     },
     "execution_count": 13,
     "metadata": {},
     "output_type": "execute_result"
    }
   ],
   "source": [
    "#Verificar resultado esperado.\n",
    "print(db_hulu.duplicated().sum())\n",
    "db_hulu.head()"
   ]
  },
  {
   "cell_type": "markdown",
   "metadata": {},
   "source": [
    "4) LIMPIEZA DE TABLA NETFLIX"
   ]
  },
  {
   "cell_type": "code",
   "execution_count": 14,
   "metadata": {},
   "outputs": [
    {
     "name": "stdout",
     "output_type": "stream",
     "text": [
      "<class 'pandas.core.frame.DataFrame'>\n",
      "Int64Index: 8807 entries, 0 to 8806\n",
      "Data columns (total 12 columns):\n",
      " #   Column        Non-Null Count  Dtype \n",
      "---  ------        --------------  ----- \n",
      " 0   show_id       8807 non-null   object\n",
      " 1   type          8807 non-null   object\n",
      " 2   title         8807 non-null   object\n",
      " 3   director      6173 non-null   object\n",
      " 4   cast          7982 non-null   object\n",
      " 5   country       7976 non-null   object\n",
      " 6   date_added    8797 non-null   object\n",
      " 7   release_year  8807 non-null   int64 \n",
      " 8   rating        8803 non-null   object\n",
      " 9   duration      8804 non-null   object\n",
      " 10  listed_in     8807 non-null   object\n",
      " 11  description   8807 non-null   object\n",
      "dtypes: int64(1), object(11)\n",
      "memory usage: 894.5+ KB\n"
     ]
    }
   ],
   "source": [
    "#Verificar estructura de la tabla.\n",
    "db_netflix.info()"
   ]
  },
  {
   "cell_type": "code",
   "execution_count": 15,
   "metadata": {},
   "outputs": [],
   "source": [
    "#Eliminar columnas innecesarias y agregar una con la plataforma.\n",
    "db_netflix = db_netflix[['title','duration','release_year','type','listed_in','cast']]\n",
    "db_netflix['Plataforma'] = np.nan\n",
    "db_netflix['Plataforma'].fillna('Netflix', inplace=True)\n",
    "db_netflix.reset_index(drop=True, inplace=True)"
   ]
  },
  {
   "cell_type": "code",
   "execution_count": 16,
   "metadata": {},
   "outputs": [
    {
     "name": "stdout",
     "output_type": "stream",
     "text": [
      "0\n"
     ]
    },
    {
     "data": {
      "text/html": [
       "<div>\n",
       "<style scoped>\n",
       "    .dataframe tbody tr th:only-of-type {\n",
       "        vertical-align: middle;\n",
       "    }\n",
       "\n",
       "    .dataframe tbody tr th {\n",
       "        vertical-align: top;\n",
       "    }\n",
       "\n",
       "    .dataframe thead th {\n",
       "        text-align: right;\n",
       "    }\n",
       "</style>\n",
       "<table border=\"1\" class=\"dataframe\">\n",
       "  <thead>\n",
       "    <tr style=\"text-align: right;\">\n",
       "      <th></th>\n",
       "      <th>title</th>\n",
       "      <th>duration</th>\n",
       "      <th>release_year</th>\n",
       "      <th>type</th>\n",
       "      <th>listed_in</th>\n",
       "      <th>cast</th>\n",
       "      <th>Plataforma</th>\n",
       "    </tr>\n",
       "  </thead>\n",
       "  <tbody>\n",
       "    <tr>\n",
       "      <th>0</th>\n",
       "      <td>Dick Johnson Is Dead</td>\n",
       "      <td>90 min</td>\n",
       "      <td>2020</td>\n",
       "      <td>Movie</td>\n",
       "      <td>Documentaries</td>\n",
       "      <td>None</td>\n",
       "      <td>Netflix</td>\n",
       "    </tr>\n",
       "    <tr>\n",
       "      <th>1</th>\n",
       "      <td>Blood &amp; Water</td>\n",
       "      <td>2 Seasons</td>\n",
       "      <td>2021</td>\n",
       "      <td>TV Show</td>\n",
       "      <td>International TV Shows, TV Dramas, TV Mysteries</td>\n",
       "      <td>Ama Qamata, Khosi Ngema, Gail Mabalane, Thaban...</td>\n",
       "      <td>Netflix</td>\n",
       "    </tr>\n",
       "    <tr>\n",
       "      <th>2</th>\n",
       "      <td>Ganglands</td>\n",
       "      <td>1 Season</td>\n",
       "      <td>2021</td>\n",
       "      <td>TV Show</td>\n",
       "      <td>Crime TV Shows, International TV Shows, TV Act...</td>\n",
       "      <td>Sami Bouajila, Tracy Gotoas, Samuel Jouy, Nabi...</td>\n",
       "      <td>Netflix</td>\n",
       "    </tr>\n",
       "    <tr>\n",
       "      <th>3</th>\n",
       "      <td>Jailbirds New Orleans</td>\n",
       "      <td>1 Season</td>\n",
       "      <td>2021</td>\n",
       "      <td>TV Show</td>\n",
       "      <td>Docuseries, Reality TV</td>\n",
       "      <td>None</td>\n",
       "      <td>Netflix</td>\n",
       "    </tr>\n",
       "    <tr>\n",
       "      <th>4</th>\n",
       "      <td>Kota Factory</td>\n",
       "      <td>2 Seasons</td>\n",
       "      <td>2021</td>\n",
       "      <td>TV Show</td>\n",
       "      <td>International TV Shows, Romantic TV Shows, TV ...</td>\n",
       "      <td>Mayur More, Jitendra Kumar, Ranjan Raj, Alam K...</td>\n",
       "      <td>Netflix</td>\n",
       "    </tr>\n",
       "  </tbody>\n",
       "</table>\n",
       "</div>"
      ],
      "text/plain": [
       "                   title   duration  release_year     type  \\\n",
       "0   Dick Johnson Is Dead     90 min          2020    Movie   \n",
       "1          Blood & Water  2 Seasons          2021  TV Show   \n",
       "2              Ganglands   1 Season          2021  TV Show   \n",
       "3  Jailbirds New Orleans   1 Season          2021  TV Show   \n",
       "4           Kota Factory  2 Seasons          2021  TV Show   \n",
       "\n",
       "                                           listed_in  \\\n",
       "0                                      Documentaries   \n",
       "1    International TV Shows, TV Dramas, TV Mysteries   \n",
       "2  Crime TV Shows, International TV Shows, TV Act...   \n",
       "3                             Docuseries, Reality TV   \n",
       "4  International TV Shows, Romantic TV Shows, TV ...   \n",
       "\n",
       "                                                cast Plataforma  \n",
       "0                                               None    Netflix  \n",
       "1  Ama Qamata, Khosi Ngema, Gail Mabalane, Thaban...    Netflix  \n",
       "2  Sami Bouajila, Tracy Gotoas, Samuel Jouy, Nabi...    Netflix  \n",
       "3                                               None    Netflix  \n",
       "4  Mayur More, Jitendra Kumar, Ranjan Raj, Alam K...    Netflix  "
      ]
     },
     "execution_count": 16,
     "metadata": {},
     "output_type": "execute_result"
    }
   ],
   "source": [
    "#Verificar resultado esperado.\n",
    "print(db_netflix.duplicated().sum())\n",
    "db_netflix.head()"
   ]
  },
  {
   "attachments": {},
   "cell_type": "markdown",
   "metadata": {},
   "source": [
    "Unión de las tablas en una única tabla con todos los datos."
   ]
  },
  {
   "cell_type": "code",
   "execution_count": 17,
   "metadata": {},
   "outputs": [],
   "source": [
    "#Unión de las 4 tablas en una.\n",
    "frames = [db_amazon,db_disney,db_hulu,db_netflix]\n",
    "dbtotal = pd.concat(frames)\n",
    "dbtotal.rename(columns={'title':'Titulo','duration':'Duracion','release_year':'Anio_estreno','type':'Tipo','listed_in':'Genero','cast':'Actores'}, inplace=True)"
   ]
  },
  {
   "cell_type": "code",
   "execution_count": 18,
   "metadata": {},
   "outputs": [
    {
     "name": "stdout",
     "output_type": "stream",
     "text": [
      "<class 'pandas.core.frame.DataFrame'>\n",
      "Int64Index: 22998 entries, 0 to 8806\n",
      "Data columns (total 7 columns):\n",
      " #   Column        Non-Null Count  Dtype \n",
      "---  ------        --------------  ----- \n",
      " 0   Titulo        22998 non-null  object\n",
      " 1   Duracion      22516 non-null  object\n",
      " 2   Anio_estreno  22998 non-null  int64 \n",
      " 3   Tipo          22998 non-null  object\n",
      " 4   Genero        22998 non-null  object\n",
      " 5   Actores       17677 non-null  object\n",
      " 6   Plataforma    22998 non-null  object\n",
      "dtypes: int64(1), object(6)\n",
      "memory usage: 1.4+ MB\n",
      "Titulo             0\n",
      "Duracion         482\n",
      "Anio_estreno       0\n",
      "Tipo               0\n",
      "Genero             0\n",
      "Actores         5321\n",
      "Plataforma         0\n",
      "dtype: int64\n"
     ]
    },
    {
     "data": {
      "text/html": [
       "<div>\n",
       "<style scoped>\n",
       "    .dataframe tbody tr th:only-of-type {\n",
       "        vertical-align: middle;\n",
       "    }\n",
       "\n",
       "    .dataframe tbody tr th {\n",
       "        vertical-align: top;\n",
       "    }\n",
       "\n",
       "    .dataframe thead th {\n",
       "        text-align: right;\n",
       "    }\n",
       "</style>\n",
       "<table border=\"1\" class=\"dataframe\">\n",
       "  <thead>\n",
       "    <tr style=\"text-align: right;\">\n",
       "      <th></th>\n",
       "      <th>Titulo</th>\n",
       "      <th>Duracion</th>\n",
       "      <th>Anio_estreno</th>\n",
       "      <th>Tipo</th>\n",
       "      <th>Genero</th>\n",
       "      <th>Actores</th>\n",
       "      <th>Plataforma</th>\n",
       "    </tr>\n",
       "  </thead>\n",
       "  <tbody>\n",
       "    <tr>\n",
       "      <th>0</th>\n",
       "      <td>The Grand Seduction</td>\n",
       "      <td>113 min</td>\n",
       "      <td>2014</td>\n",
       "      <td>Movie</td>\n",
       "      <td>Comedy, Drama</td>\n",
       "      <td>Brendan Gleeson, Taylor Kitsch, Gordon Pinsent</td>\n",
       "      <td>Amazon</td>\n",
       "    </tr>\n",
       "    <tr>\n",
       "      <th>1</th>\n",
       "      <td>Take Care Good Night</td>\n",
       "      <td>110 min</td>\n",
       "      <td>2018</td>\n",
       "      <td>Movie</td>\n",
       "      <td>Drama, International</td>\n",
       "      <td>Mahesh Manjrekar, Abhay Mahajan, Sachin Khedekar</td>\n",
       "      <td>Amazon</td>\n",
       "    </tr>\n",
       "    <tr>\n",
       "      <th>2</th>\n",
       "      <td>Secrets of Deception</td>\n",
       "      <td>74 min</td>\n",
       "      <td>2017</td>\n",
       "      <td>Movie</td>\n",
       "      <td>Action, Drama, Suspense</td>\n",
       "      <td>Tom Sizemore, Lorenzo Lamas, Robert LaSardo, R...</td>\n",
       "      <td>Amazon</td>\n",
       "    </tr>\n",
       "    <tr>\n",
       "      <th>3</th>\n",
       "      <td>Pink: Staying True</td>\n",
       "      <td>69 min</td>\n",
       "      <td>2014</td>\n",
       "      <td>Movie</td>\n",
       "      <td>Documentary</td>\n",
       "      <td>Interviews with: Pink, Adele, Beyoncé, Britney...</td>\n",
       "      <td>Amazon</td>\n",
       "    </tr>\n",
       "    <tr>\n",
       "      <th>4</th>\n",
       "      <td>Monster Maker</td>\n",
       "      <td>45 min</td>\n",
       "      <td>1989</td>\n",
       "      <td>Movie</td>\n",
       "      <td>Drama, Fantasy</td>\n",
       "      <td>Harry Dean Stanton, Kieran O'Brien, George Cos...</td>\n",
       "      <td>Amazon</td>\n",
       "    </tr>\n",
       "  </tbody>\n",
       "</table>\n",
       "</div>"
      ],
      "text/plain": [
       "                 Titulo Duracion  Anio_estreno   Tipo  \\\n",
       "0   The Grand Seduction  113 min          2014  Movie   \n",
       "1  Take Care Good Night  110 min          2018  Movie   \n",
       "2  Secrets of Deception   74 min          2017  Movie   \n",
       "3    Pink: Staying True   69 min          2014  Movie   \n",
       "4         Monster Maker   45 min          1989  Movie   \n",
       "\n",
       "                    Genero                                            Actores  \\\n",
       "0            Comedy, Drama     Brendan Gleeson, Taylor Kitsch, Gordon Pinsent   \n",
       "1     Drama, International   Mahesh Manjrekar, Abhay Mahajan, Sachin Khedekar   \n",
       "2  Action, Drama, Suspense  Tom Sizemore, Lorenzo Lamas, Robert LaSardo, R...   \n",
       "3              Documentary  Interviews with: Pink, Adele, Beyoncé, Britney...   \n",
       "4           Drama, Fantasy  Harry Dean Stanton, Kieran O'Brien, George Cos...   \n",
       "\n",
       "  Plataforma  \n",
       "0     Amazon  \n",
       "1     Amazon  \n",
       "2     Amazon  \n",
       "3     Amazon  \n",
       "4     Amazon  "
      ]
     },
     "execution_count": 18,
     "metadata": {},
     "output_type": "execute_result"
    }
   ],
   "source": [
    "dbtotal.info()\n",
    "print(dbtotal.isna().sum())\n",
    "dbtotal.head()"
   ]
  },
  {
   "cell_type": "code",
   "execution_count": 19,
   "metadata": {},
   "outputs": [],
   "source": [
    "#Aplicar transformaciones a los datos.\n",
    "#Columna Título.\n",
    "dbtotal['Titulo'] = dbtotal['Titulo'].apply(lambda x: x.replace('#',''))\n",
    "dbtotal['Titulo'] = dbtotal['Titulo'].apply(lambda x: x.replace('\"',''))\n",
    "dbtotal['Titulo'] = dbtotal['Titulo'].apply(lambda x: x.replace('(Dub)',''))\n",
    "dbtotal['Titulo'] = dbtotal['Titulo'].apply(lambda x: x.replace('(Sub) ',''))\n",
    "dbtotal['Titulo'] = dbtotal['Titulo'].apply(lambda x: x.replace('.hack//',''))\n",
    "dbtotal['Titulo'] = dbtotal['Titulo'].apply(lambda x: x.replace(' (4K UHD)',''))\n",
    "dbtotal['Titulo'] = dbtotal['Titulo'].str.strip(to_strip=None)\n",
    "\n",
    "#Columna Duración.\n",
    "dbtotal['Duracion'].fillna('Sin dato', inplace=True)\n",
    "dbtotal['Duracion'] = dbtotal['Duracion'].map(extraer_num)\n",
    "\n",
    "#Columna Actores.\n",
    "dbtotal['Actores'].fillna('Sin dato', inplace=True)"
   ]
  },
  {
   "cell_type": "code",
   "execution_count": 20,
   "metadata": {},
   "outputs": [],
   "source": [
    "#Reordenar el listado de películas y reindexar la tabla.\n",
    "dbtotal.sort_values(by=['Titulo'], inplace=True)\n",
    "dbtotal = dbtotal.reset_index(drop=True)"
   ]
  },
  {
   "cell_type": "code",
   "execution_count": 21,
   "metadata": {},
   "outputs": [
    {
     "name": "stdout",
     "output_type": "stream",
     "text": [
      "<class 'pandas.core.frame.DataFrame'>\n",
      "RangeIndex: 22998 entries, 0 to 22997\n",
      "Data columns (total 7 columns):\n",
      " #   Column        Non-Null Count  Dtype \n",
      "---  ------        --------------  ----- \n",
      " 0   Titulo        22998 non-null  object\n",
      " 1   Duracion      22998 non-null  int64 \n",
      " 2   Anio_estreno  22998 non-null  int64 \n",
      " 3   Tipo          22998 non-null  object\n",
      " 4   Genero        22998 non-null  object\n",
      " 5   Actores       22998 non-null  object\n",
      " 6   Plataforma    22998 non-null  object\n",
      "dtypes: int64(2), object(5)\n",
      "memory usage: 1.2+ MB\n"
     ]
    },
    {
     "data": {
      "text/html": [
       "<div>\n",
       "<style scoped>\n",
       "    .dataframe tbody tr th:only-of-type {\n",
       "        vertical-align: middle;\n",
       "    }\n",
       "\n",
       "    .dataframe tbody tr th {\n",
       "        vertical-align: top;\n",
       "    }\n",
       "\n",
       "    .dataframe thead th {\n",
       "        text-align: right;\n",
       "    }\n",
       "</style>\n",
       "<table border=\"1\" class=\"dataframe\">\n",
       "  <thead>\n",
       "    <tr style=\"text-align: right;\">\n",
       "      <th></th>\n",
       "      <th>Titulo</th>\n",
       "      <th>Duracion</th>\n",
       "      <th>Anio_estreno</th>\n",
       "      <th>Tipo</th>\n",
       "      <th>Genero</th>\n",
       "      <th>Actores</th>\n",
       "      <th>Plataforma</th>\n",
       "    </tr>\n",
       "  </thead>\n",
       "  <tbody>\n",
       "    <tr>\n",
       "      <th>0</th>\n",
       "      <td>'71</td>\n",
       "      <td>99</td>\n",
       "      <td>2014</td>\n",
       "      <td>Movie</td>\n",
       "      <td>Action, Adventure, Drama</td>\n",
       "      <td>Sin dato</td>\n",
       "      <td>Hulu</td>\n",
       "    </tr>\n",
       "    <tr>\n",
       "      <th>1</th>\n",
       "      <td>'76</td>\n",
       "      <td>118</td>\n",
       "      <td>2016</td>\n",
       "      <td>Movie</td>\n",
       "      <td>Dramas, International Movies</td>\n",
       "      <td>Ramsey Nouah, Rita Dominic, Chidi Mokeme, Ibin...</td>\n",
       "      <td>Netflix</td>\n",
       "    </tr>\n",
       "    <tr>\n",
       "      <th>2</th>\n",
       "      <td>'89</td>\n",
       "      <td>87</td>\n",
       "      <td>2017</td>\n",
       "      <td>Movie</td>\n",
       "      <td>Sports Movies</td>\n",
       "      <td>Lee Dixon, Ian Wright, Paul Merson</td>\n",
       "      <td>Netflix</td>\n",
       "    </tr>\n",
       "    <tr>\n",
       "      <th>3</th>\n",
       "      <td>'Allo 'Allo!</td>\n",
       "      <td>9</td>\n",
       "      <td>1992</td>\n",
       "      <td>TV Show</td>\n",
       "      <td>Comedy</td>\n",
       "      <td>Gorden Kaye, Guy Siner, Jeremy Lloyd, Kirsten ...</td>\n",
       "      <td>Amazon</td>\n",
       "    </tr>\n",
       "    <tr>\n",
       "      <th>4</th>\n",
       "      <td>(500) Days Of Summer</td>\n",
       "      <td>95</td>\n",
       "      <td>2009</td>\n",
       "      <td>Movie</td>\n",
       "      <td>Comedy</td>\n",
       "      <td>Joseph Gordon-Levitt, Zooey Deschanel ,  Geoff...</td>\n",
       "      <td>Amazon</td>\n",
       "    </tr>\n",
       "  </tbody>\n",
       "</table>\n",
       "</div>"
      ],
      "text/plain": [
       "                 Titulo  Duracion  Anio_estreno     Tipo  \\\n",
       "0                   '71        99          2014    Movie   \n",
       "1                   '76       118          2016    Movie   \n",
       "2                   '89        87          2017    Movie   \n",
       "3          'Allo 'Allo!         9          1992  TV Show   \n",
       "4  (500) Days Of Summer        95          2009    Movie   \n",
       "\n",
       "                         Genero  \\\n",
       "0      Action, Adventure, Drama   \n",
       "1  Dramas, International Movies   \n",
       "2                 Sports Movies   \n",
       "3                        Comedy   \n",
       "4                        Comedy   \n",
       "\n",
       "                                             Actores Plataforma  \n",
       "0                                           Sin dato       Hulu  \n",
       "1  Ramsey Nouah, Rita Dominic, Chidi Mokeme, Ibin...    Netflix  \n",
       "2                 Lee Dixon, Ian Wright, Paul Merson    Netflix  \n",
       "3  Gorden Kaye, Guy Siner, Jeremy Lloyd, Kirsten ...     Amazon  \n",
       "4  Joseph Gordon-Levitt, Zooey Deschanel ,  Geoff...     Amazon  "
      ]
     },
     "execution_count": 21,
     "metadata": {},
     "output_type": "execute_result"
    }
   ],
   "source": [
    "#Verificar estructura de la tabla definitiva.\n",
    "dbtotal.info()\n",
    "dbtotal.head(5)"
   ]
  },
  {
   "cell_type": "code",
   "execution_count": 22,
   "metadata": {},
   "outputs": [],
   "source": [
    "#Exportar tabla limpia.\n",
    "dbtotal.to_csv('./app/base_plataformas.csv', index=False)"
   ]
  }
 ],
 "metadata": {
  "kernelspec": {
   "display_name": "Python 3.10.8 64-bit",
   "language": "python",
   "name": "python3"
  },
  "language_info": {
   "codemirror_mode": {
    "name": "ipython",
    "version": 3
   },
   "file_extension": ".py",
   "mimetype": "text/x-python",
   "name": "python",
   "nbconvert_exporter": "python",
   "pygments_lexer": "ipython3",
   "version": "3.10.8"
  },
  "orig_nbformat": 4,
  "vscode": {
   "interpreter": {
    "hash": "80acabf83f03f6708b4a7d1d74fe7eb69e19c51052afaa6d4e26b05791fa57cb"
   }
  }
 },
 "nbformat": 4,
 "nbformat_minor": 2
}
